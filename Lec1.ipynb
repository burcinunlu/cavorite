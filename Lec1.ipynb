{
  "nbformat": 4,
  "nbformat_minor": 0,
  "metadata": {
    "colab": {
      "name": "Untitled18.ipynb",
      "version": "0.3.2",
      "provenance": [],
      "include_colab_link": true
    },
    "kernelspec": {
      "name": "python3",
      "display_name": "Python 3"
    }
  },
  "cells": [
    {
      "cell_type": "markdown",
      "metadata": {
        "id": "view-in-github",
        "colab_type": "text"
      },
      "source": [
        "<a href=\"https://colab.research.google.com/github/burcinunlu/cavorite/blob/master/Lec1.ipynb\" target=\"_parent\"><img src=\"https://colab.research.google.com/assets/colab-badge.svg\" alt=\"Open In Colab\"/></a>"
      ]
    },
    {
      "metadata": {
        "id": "QBFQkBwPsKH-",
        "colab_type": "code",
        "colab": {
          "base_uri": "https://localhost:8080/",
          "height": 68
        },
        "outputId": "6d49f012-383d-4877-a299-6180dcf60b82"
      },
      "cell_type": "code",
      "source": [
        "pi = 3.14159\n",
        "radius = 2.2\n",
        "# area of circle equation <- this is a comment\n",
        "area = pi*(radius**2)\n",
        "print(area)\n",
        "\n",
        "# change values of radius <- another comment\n",
        "# use comments to help others understand what you are doing in code\n",
        "radius = radius + 1\n",
        "print(area)     # area doesn't change\n",
        "area = pi*(radius**2)\n",
        "print(area)\n",
        "\n",
        "\n",
        "#############################\n",
        "#### COMMENTING LINES #######\n",
        "#############################\n",
        "# to comment MANY lines at a time, highlight all of them then CTRL+1\n",
        "# do CTRL+1 again to uncomment them\n",
        "# try it on the next few lines below!\n",
        "\n",
        "#area = pi*(radius**2)\n",
        "#print(area)\n",
        "#radius = radius + 1\n",
        "#area = pi*(radius**2)\n",
        "#print(area)\n",
        "\n",
        "#############################\n",
        "#### AUTOCOMPLETE #######\n",
        "#############################\n",
        "# Spyder can autocomplete names for you\n",
        "# start typing a variable name defined in your program and hit tab \n",
        "# before you finish typing -- try it below\n",
        "\n",
        "# define a variable\n",
        "a_very_long_variable_name_dont_name_them_this_long_pls = 0\n",
        "\n",
        "# below, start typing a_ve then hit tab... cool, right!\n",
        "# use autocomplete to change the value of that variable to 1\n",
        "\n",
        "# use autocomplete to write a line that prints the value of that long variable\n",
        "# notice that Spyder also automatically adds the closed parentheses for you!\n",
        "\n"
      ],
      "execution_count": 5,
      "outputs": [
        {
          "output_type": "stream",
          "text": [
            "15.205295600000001\n",
            "15.205295600000001\n",
            "32.169881600000004\n"
          ],
          "name": "stdout"
        }
      ]
    }
  ]
}